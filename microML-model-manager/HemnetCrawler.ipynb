{
 "cells": [
  {
   "cell_type": "code",
   "execution_count": 2,
   "metadata": {},
   "outputs": [],
   "source": [
    "import requests\n",
    "from bs4 import BeautifulSoup\n",
    "import json\n",
    "from tqdm import tqdm"
   ]
  },
  {
   "cell_type": "markdown",
   "metadata": {},
   "source": [
    "# Data fetch "
   ]
  },
  {
   "cell_type": "code",
   "execution_count": 3,
   "metadata": {},
   "outputs": [
    {
     "name": "stderr",
     "output_type": "stream",
     "text": [
      "100%|██████████| 50/50 [00:39<00:00,  1.25it/s]\n"
     ]
    }
   ],
   "source": [
    "'''\n",
    "Get the links to the objects\n",
    "'''\n",
    "links = []\n",
    "\n",
    "for page_n in tqdm(range(50)):\n",
    "    http = requests.get(\"https://www.hemnet.se/salda/bostader?page={}\".format(page_n))\n",
    "    soup = BeautifulSoup(http.content)\n",
    "\n",
    "    for a in soup.find_all('a', href=True):\n",
    "        res = a['href']\n",
    "        if \"https\" in res and \"salda\" in res:\n",
    "            links.append(res)\n",
    "\n",
    "len(links)"
   ]
  },
  {
   "cell_type": "code",
   "execution_count": 5,
   "metadata": {},
   "outputs": [],
   "source": [
    "'''\n",
    "Save the result to a text file\n",
    "'''\n",
    "with open(\"data/links.txt\", \"w\") as fn:\n",
    "    fn.writelines(links)"
   ]
  },
  {
   "cell_type": "code",
   "execution_count": 383,
   "metadata": {},
   "outputs": [
    {
     "name": "stderr",
     "output_type": "stream",
     "text": [
      " 10%|█         | 261/2500 [02:11<18:11,  2.05it/s]"
     ]
    },
    {
     "name": "stdout",
     "output_type": "stream",
     "text": [
      "list index out of range\n"
     ]
    },
    {
     "name": "stderr",
     "output_type": "stream",
     "text": [
      " 12%|█▏        | 290/2500 [02:35<50:06,  1.36s/it]"
     ]
    },
    {
     "name": "stdout",
     "output_type": "stream",
     "text": [
      "list index out of range\n"
     ]
    },
    {
     "name": "stderr",
     "output_type": "stream",
     "text": [
      " 18%|█▊        | 443/2500 [03:57<12:49,  2.67it/s]"
     ]
    },
    {
     "name": "stdout",
     "output_type": "stream",
     "text": [
      "list index out of range\n"
     ]
    },
    {
     "name": "stderr",
     "output_type": "stream",
     "text": [
      " 37%|███▋      | 919/2500 [08:12<16:09,  1.63it/s]"
     ]
    },
    {
     "name": "stdout",
     "output_type": "stream",
     "text": [
      "list index out of range\n"
     ]
    },
    {
     "name": "stderr",
     "output_type": "stream",
     "text": [
      "100%|██████████| 2500/2500 [22:14<00:00,  1.87it/s]\n"
     ]
    }
   ],
   "source": [
    "for link in tqdm(links):\n",
    "    data = requests.get(link)\n",
    "    soup = BeautifulSoup(data.text)\n",
    "    mydivs = soup.findAll(\"div\", {\"class\": \"sold-property__map js-listing-map-sold\"})\n",
    "    try:\n",
    "        jdata = json.loads(mydivs[0][\"data-initial-data\"])\n",
    "        with open(\"data/objects/{}.txt\".format(jdata['listing']['id']), \"w\") as fn:\n",
    "            fn.writelines(data.text)\n",
    "    except Exception as e:\n",
    "        print(e)"
   ]
  },
  {
   "cell_type": "markdown",
   "metadata": {},
   "source": [
    "# Data processing "
   ]
  },
  {
   "cell_type": "code",
   "execution_count": 384,
   "metadata": {},
   "outputs": [
    {
     "name": "stderr",
     "output_type": "stream",
     "text": [
      "100%|██████████| 2446/2446 [01:41<00:00, 24.07it/s]\n"
     ]
    },
    {
     "data": {
      "text/plain": [
       "{'status': 'sold',\n",
       " 'listing': {'id': 1204486,\n",
       "  'coordinate': [63.1817274331694, 14.639372293351753],\n",
       "  'address': 'Rådhusgatan 28 A',\n",
       "  'typeSummary': 'Bostadsrättslägenhet',\n",
       "  'iconName': 'bostadsratt',\n",
       "  'price': \"<span class='sold-for'>Slutpris 1\\xa0900\\xa0000 kr</span>\",\n",
       "  'price_per_area': '20\\xa0541 kr/m²',\n",
       "  'fee': '4\\xa0948 kr/mån',\n",
       "  'sale_date': 'Såld 2020-06-15',\n",
       "  'asked_price': 'Begärt pris 1\\xa0950\\xa0000 kr',\n",
       "  'rooms': '3 rum',\n",
       "  'living_space': '92,5 m²',\n",
       "  'supplemental_area': None,\n",
       "  'url': '/salda/lagenhet-3rum-centralt-ostersunds-kommun-radhusgatan-28-a-1204486',\n",
       "  'land_area': None},\n",
       " 'assets_prefix': '',\n",
       " 'map_url': 'https://maps.googleapis.com/maps/api/js?libraries=geometry,places&v=3.34&client=gme-hemnetservicehns&region=SE&language=sv'}"
      ]
     },
     "execution_count": 384,
     "metadata": {},
     "output_type": "execute_result"
    }
   ],
   "source": [
    "'''\n",
    "Parse files into Json\n",
    "'''\n",
    "\n",
    "from os import listdir\n",
    "from os.path import isfile, join\n",
    "\n",
    "objects = []\n",
    "\n",
    "for f in tqdm(listdir(\"data/objects\")):\n",
    "    with open(\"data/objects/{}\".format(f), \"r\") as f:\n",
    "        data = f.read()\n",
    "    soup = BeautifulSoup(data)\n",
    "    mydivs = soup.findAll(\"div\", {\"class\": \"sold-property__map js-listing-map-sold\"})\n",
    "    jdata = json.loads(mydivs[0][\"data-initial-data\"])\n",
    "    objects.append(jdata)\n",
    "\n",
    "objects[2]"
   ]
  },
  {
   "cell_type": "code",
   "execution_count": 385,
   "metadata": {},
   "outputs": [
    {
     "data": {
      "text/html": [
       "<div>\n",
       "<style scoped>\n",
       "    .dataframe tbody tr th:only-of-type {\n",
       "        vertical-align: middle;\n",
       "    }\n",
       "\n",
       "    .dataframe tbody tr th {\n",
       "        vertical-align: top;\n",
       "    }\n",
       "\n",
       "    .dataframe thead th {\n",
       "        text-align: right;\n",
       "    }\n",
       "</style>\n",
       "<table border=\"1\" class=\"dataframe\">\n",
       "  <thead>\n",
       "    <tr style=\"text-align: right;\">\n",
       "      <th></th>\n",
       "      <th>id</th>\n",
       "      <th>coordinate</th>\n",
       "      <th>address</th>\n",
       "      <th>typeSummary</th>\n",
       "      <th>iconName</th>\n",
       "      <th>price</th>\n",
       "      <th>price_per_area</th>\n",
       "      <th>fee</th>\n",
       "      <th>sale_date</th>\n",
       "      <th>asked_price</th>\n",
       "      <th>rooms</th>\n",
       "      <th>living_space</th>\n",
       "      <th>supplemental_area</th>\n",
       "      <th>url</th>\n",
       "      <th>land_area</th>\n",
       "    </tr>\n",
       "  </thead>\n",
       "  <tbody>\n",
       "    <tr>\n",
       "      <th>0</th>\n",
       "      <td>1202014</td>\n",
       "      <td>[59.6238363159342, 16.570181550355525]</td>\n",
       "      <td>Haga parkgata 9B</td>\n",
       "      <td>Bostadsrättslägenhet</td>\n",
       "      <td>bostadsratt</td>\n",
       "      <td>&lt;span class='sold-for'&gt;Slutpris 1 000 000 kr&lt;/...</td>\n",
       "      <td>20 000 kr/m²</td>\n",
       "      <td>3 833 kr/mån</td>\n",
       "      <td>Såld 2020-06-11</td>\n",
       "      <td>Begärt pris 995 000 kr</td>\n",
       "      <td>2 rum</td>\n",
       "      <td>50 m²</td>\n",
       "      <td>None</td>\n",
       "      <td>/salda/lagenhet-2rum-haga-vasteras-kommun-haga...</td>\n",
       "      <td>None</td>\n",
       "    </tr>\n",
       "    <tr>\n",
       "      <th>1</th>\n",
       "      <td>1203316</td>\n",
       "      <td>[59.3191730260472, 18.03829415619227]</td>\n",
       "      <td>Heleneborgsgatan 5C</td>\n",
       "      <td>Bostadsrättslägenhet</td>\n",
       "      <td>bostadsratt</td>\n",
       "      <td>&lt;span class='sold-for'&gt;Slutpris 6 350 000 kr&lt;/...</td>\n",
       "      <td>96 212 kr/m²</td>\n",
       "      <td>3 944 kr/mån</td>\n",
       "      <td>Såld 2020-06-12</td>\n",
       "      <td>Begärt pris 5 790 000 kr</td>\n",
       "      <td>3 rum</td>\n",
       "      <td>66 m²</td>\n",
       "      <td>None</td>\n",
       "      <td>/salda/lagenhet-3rum-sodermalm-hogalid-stockho...</td>\n",
       "      <td>None</td>\n",
       "    </tr>\n",
       "    <tr>\n",
       "      <th>2</th>\n",
       "      <td>1204486</td>\n",
       "      <td>[63.1817274331694, 14.639372293351753]</td>\n",
       "      <td>Rådhusgatan 28 A</td>\n",
       "      <td>Bostadsrättslägenhet</td>\n",
       "      <td>bostadsratt</td>\n",
       "      <td>&lt;span class='sold-for'&gt;Slutpris 1 900 000 kr&lt;/...</td>\n",
       "      <td>20 541 kr/m²</td>\n",
       "      <td>4 948 kr/mån</td>\n",
       "      <td>Såld 2020-06-15</td>\n",
       "      <td>Begärt pris 1 950 000 kr</td>\n",
       "      <td>3 rum</td>\n",
       "      <td>92,5 m²</td>\n",
       "      <td>None</td>\n",
       "      <td>/salda/lagenhet-3rum-centralt-ostersunds-kommu...</td>\n",
       "      <td>None</td>\n",
       "    </tr>\n",
       "    <tr>\n",
       "      <th>3</th>\n",
       "      <td>1201379</td>\n",
       "      <td>[59.43984696283136, 18.07367567305071]</td>\n",
       "      <td>Kometvägen 35, vån 3</td>\n",
       "      <td>Bostadsrättslägenhet</td>\n",
       "      <td>bostadsratt</td>\n",
       "      <td>&lt;span class='sold-for'&gt;Slutpris 2 800 000 kr&lt;/...</td>\n",
       "      <td>34 568 kr/m²</td>\n",
       "      <td>4 663 kr/mån</td>\n",
       "      <td>Såld 2020-06-10</td>\n",
       "      <td>Begärt pris 2 995 000 kr</td>\n",
       "      <td>3 rum</td>\n",
       "      <td>81 m²</td>\n",
       "      <td>None</td>\n",
       "      <td>/salda/lagenhet-3rum-grindtorp-taby-kommun-kom...</td>\n",
       "      <td>None</td>\n",
       "    </tr>\n",
       "    <tr>\n",
       "      <th>4</th>\n",
       "      <td>1201494</td>\n",
       "      <td>[59.29511755942469, 18.10640325344144]</td>\n",
       "      <td>Ulricehamnsvägen 4</td>\n",
       "      <td>Bostadsrättslägenhet</td>\n",
       "      <td>bostadsratt</td>\n",
       "      <td>&lt;span class='sold-for'&gt;Slutpris 2 940 000 kr&lt;/...</td>\n",
       "      <td>56 538 kr/m²</td>\n",
       "      <td>2 904 kr/mån</td>\n",
       "      <td>Såld 2020-06-10</td>\n",
       "      <td>Begärt pris 2 495 000 kr</td>\n",
       "      <td>2 rum</td>\n",
       "      <td>52 m²</td>\n",
       "      <td>None</td>\n",
       "      <td>/salda/lagenhet-2rum-stockholms-kommun-ulriceh...</td>\n",
       "      <td>None</td>\n",
       "    </tr>\n",
       "  </tbody>\n",
       "</table>\n",
       "</div>"
      ],
      "text/plain": [
       "        id                              coordinate               address  \\\n",
       "0  1202014  [59.6238363159342, 16.570181550355525]      Haga parkgata 9B   \n",
       "1  1203316   [59.3191730260472, 18.03829415619227]   Heleneborgsgatan 5C   \n",
       "2  1204486  [63.1817274331694, 14.639372293351753]      Rådhusgatan 28 A   \n",
       "3  1201379  [59.43984696283136, 18.07367567305071]  Kometvägen 35, vån 3   \n",
       "4  1201494  [59.29511755942469, 18.10640325344144]    Ulricehamnsvägen 4   \n",
       "\n",
       "            typeSummary     iconName  \\\n",
       "0  Bostadsrättslägenhet  bostadsratt   \n",
       "1  Bostadsrättslägenhet  bostadsratt   \n",
       "2  Bostadsrättslägenhet  bostadsratt   \n",
       "3  Bostadsrättslägenhet  bostadsratt   \n",
       "4  Bostadsrättslägenhet  bostadsratt   \n",
       "\n",
       "                                               price price_per_area  \\\n",
       "0  <span class='sold-for'>Slutpris 1 000 000 kr</...   20 000 kr/m²   \n",
       "1  <span class='sold-for'>Slutpris 6 350 000 kr</...   96 212 kr/m²   \n",
       "2  <span class='sold-for'>Slutpris 1 900 000 kr</...   20 541 kr/m²   \n",
       "3  <span class='sold-for'>Slutpris 2 800 000 kr</...   34 568 kr/m²   \n",
       "4  <span class='sold-for'>Slutpris 2 940 000 kr</...   56 538 kr/m²   \n",
       "\n",
       "            fee        sale_date               asked_price  rooms  \\\n",
       "0  3 833 kr/mån  Såld 2020-06-11    Begärt pris 995 000 kr  2 rum   \n",
       "1  3 944 kr/mån  Såld 2020-06-12  Begärt pris 5 790 000 kr  3 rum   \n",
       "2  4 948 kr/mån  Såld 2020-06-15  Begärt pris 1 950 000 kr  3 rum   \n",
       "3  4 663 kr/mån  Såld 2020-06-10  Begärt pris 2 995 000 kr  3 rum   \n",
       "4  2 904 kr/mån  Såld 2020-06-10  Begärt pris 2 495 000 kr  2 rum   \n",
       "\n",
       "  living_space supplemental_area  \\\n",
       "0        50 m²              None   \n",
       "1        66 m²              None   \n",
       "2      92,5 m²              None   \n",
       "3        81 m²              None   \n",
       "4        52 m²              None   \n",
       "\n",
       "                                                 url land_area  \n",
       "0  /salda/lagenhet-2rum-haga-vasteras-kommun-haga...      None  \n",
       "1  /salda/lagenhet-3rum-sodermalm-hogalid-stockho...      None  \n",
       "2  /salda/lagenhet-3rum-centralt-ostersunds-kommu...      None  \n",
       "3  /salda/lagenhet-3rum-grindtorp-taby-kommun-kom...      None  \n",
       "4  /salda/lagenhet-2rum-stockholms-kommun-ulriceh...      None  "
      ]
     },
     "execution_count": 385,
     "metadata": {},
     "output_type": "execute_result"
    }
   ],
   "source": [
    "import pandas as pd\n",
    "\n",
    "df = pd.DataFrame.from_dict([t['listing'] for t in objects])\n",
    "df.head()"
   ]
  },
  {
   "cell_type": "code",
   "execution_count": 386,
   "metadata": {},
   "outputs": [],
   "source": [
    "def parse_num(x, n_remove_suff=0):\n",
    "    if x == None: \n",
    "        return None\n",
    "    t = \"\".join([v for v in x if v.isnumeric() or v==\",\"])\n",
    "    t = t.replace(\",\", \".\")\n",
    "    if n_remove_suff:\n",
    "        t = t[:-n_remove_suff]\n",
    "    return float(t)"
   ]
  },
  {
   "cell_type": "code",
   "execution_count": 387,
   "metadata": {},
   "outputs": [],
   "source": [
    "df_parsed = pd.DataFrame()"
   ]
  },
  {
   "cell_type": "code",
   "execution_count": 388,
   "metadata": {},
   "outputs": [],
   "source": [
    "df_parsed[\"price_per_area\"] = df.price_per_area.apply(lambda x: parse_num(x, 1))"
   ]
  },
  {
   "cell_type": "code",
   "execution_count": 389,
   "metadata": {},
   "outputs": [],
   "source": [
    "df_parsed[\"rooms\"] = df.rooms.apply(parse_num)"
   ]
  },
  {
   "cell_type": "code",
   "execution_count": 390,
   "metadata": {},
   "outputs": [],
   "source": [
    "df_parsed[\"fee\"] = df.fee.apply(parse_num)"
   ]
  },
  {
   "cell_type": "code",
   "execution_count": 391,
   "metadata": {},
   "outputs": [],
   "source": [
    "df_parsed[\"living_space\"] = df.living_space.apply(lambda x: parse_num(x, 1))"
   ]
  },
  {
   "cell_type": "code",
   "execution_count": 392,
   "metadata": {},
   "outputs": [],
   "source": [
    "df_parsed[\"supplemental_area\"] = df.supplemental_area.apply(lambda x: parse_num(x, 1))"
   ]
  },
  {
   "cell_type": "code",
   "execution_count": 393,
   "metadata": {},
   "outputs": [],
   "source": [
    "df_parsed[\"price\"] = df.price.apply(parse_num)"
   ]
  },
  {
   "cell_type": "code",
   "execution_count": 394,
   "metadata": {},
   "outputs": [],
   "source": [
    "df_parsed[\"asked_price\"] = df.asked_price.apply(parse_num)"
   ]
  },
  {
   "cell_type": "code",
   "execution_count": 395,
   "metadata": {},
   "outputs": [],
   "source": [
    "df_parsed[\"land_area\"] = df.land_area.apply(lambda x: parse_num(x, 1))"
   ]
  },
  {
   "cell_type": "code",
   "execution_count": 396,
   "metadata": {},
   "outputs": [],
   "source": [
    "df_parsed[\"longitude\"] = df.coordinate.apply(lambda x: x[0])\n",
    "df_parsed[\"latitude\"] = df.coordinate.apply(lambda x: x[1])"
   ]
  },
  {
   "cell_type": "code",
   "execution_count": 409,
   "metadata": {},
   "outputs": [],
   "source": [
    "df_parsed[\"typeSummary\"] = df.typeSummary"
   ]
  },
  {
   "cell_type": "code",
   "execution_count": 410,
   "metadata": {},
   "outputs": [],
   "source": [
    "'''\n",
    "Date related\n",
    "'''\n",
    "\n",
    "df_parsed[\"year\"] = df.sale_date.apply(lambda x: x[5:].split(\"-\")[0])\n",
    "df_parsed[\"month\"] = df.sale_date.apply(lambda x: x[5:].split(\"-\")[1])\n",
    "df_parsed[\"day\"] = df.sale_date.apply(lambda x: x[5:].split(\"-\")[2])"
   ]
  },
  {
   "cell_type": "code",
   "execution_count": 411,
   "metadata": {},
   "outputs": [],
   "source": [
    "def contains_num(s):\n",
    "    return any(filter(lambda x: x.isnumeric(), s))"
   ]
  },
  {
   "cell_type": "code",
   "execution_count": 412,
   "metadata": {},
   "outputs": [],
   "source": [
    "def floor(x):\n",
    "    try:\n",
    "        x = x.lower()\n",
    "        if \"vån \" in x:\n",
    "            last = x.split(\"vån\")[-1]\n",
    "            return parse_num(last)\n",
    "        if x[-2:] == \"tr\":\n",
    "            return parse_num(x[-4:-2])\n",
    "    except:\n",
    "        return 0\n",
    "    return 0\n",
    "\n",
    "df_parsed[\"floor\"] = df.address.apply(floor)"
   ]
  },
  {
   "cell_type": "code",
   "execution_count": 414,
   "metadata": {},
   "outputs": [
    {
     "data": {
      "text/html": [
       "<div>\n",
       "<style scoped>\n",
       "    .dataframe tbody tr th:only-of-type {\n",
       "        vertical-align: middle;\n",
       "    }\n",
       "\n",
       "    .dataframe tbody tr th {\n",
       "        vertical-align: top;\n",
       "    }\n",
       "\n",
       "    .dataframe thead th {\n",
       "        text-align: right;\n",
       "    }\n",
       "</style>\n",
       "<table border=\"1\" class=\"dataframe\">\n",
       "  <thead>\n",
       "    <tr style=\"text-align: right;\">\n",
       "      <th></th>\n",
       "      <th>price_per_area</th>\n",
       "      <th>rooms</th>\n",
       "      <th>fee</th>\n",
       "      <th>living_space</th>\n",
       "      <th>supplemental_area</th>\n",
       "      <th>price</th>\n",
       "      <th>asked_price</th>\n",
       "      <th>land_area</th>\n",
       "      <th>longitude</th>\n",
       "      <th>latitude</th>\n",
       "      <th>floor</th>\n",
       "    </tr>\n",
       "  </thead>\n",
       "  <tbody>\n",
       "    <tr>\n",
       "      <th>count</th>\n",
       "      <td>2390.000000</td>\n",
       "      <td>2375.000000</td>\n",
       "      <td>1433.000000</td>\n",
       "      <td>2392.000000</td>\n",
       "      <td>710.000000</td>\n",
       "      <td>2.446000e+03</td>\n",
       "      <td>2.430000e+03</td>\n",
       "      <td>1.000000e+03</td>\n",
       "      <td>2446.000000</td>\n",
       "      <td>2446.000000</td>\n",
       "      <td>2446.000000</td>\n",
       "    </tr>\n",
       "    <tr>\n",
       "      <th>mean</th>\n",
       "      <td>36985.372385</td>\n",
       "      <td>3.403368</td>\n",
       "      <td>3728.357990</td>\n",
       "      <td>87.042559</td>\n",
       "      <td>41.252113</td>\n",
       "      <td>2.864402e+06</td>\n",
       "      <td>2.703596e+06</td>\n",
       "      <td>4.757620e+03</td>\n",
       "      <td>58.889279</td>\n",
       "      <td>15.908270</td>\n",
       "      <td>0.386263</td>\n",
       "    </tr>\n",
       "    <tr>\n",
       "      <th>std</th>\n",
       "      <td>25616.539904</td>\n",
       "      <td>1.720102</td>\n",
       "      <td>1322.843515</td>\n",
       "      <td>47.306871</td>\n",
       "      <td>39.878895</td>\n",
       "      <td>2.184230e+06</td>\n",
       "      <td>2.091508e+06</td>\n",
       "      <td>4.038677e+04</td>\n",
       "      <td>1.868170</td>\n",
       "      <td>2.524556</td>\n",
       "      <td>1.845948</td>\n",
       "    </tr>\n",
       "    <tr>\n",
       "      <th>min</th>\n",
       "      <td>982.000000</td>\n",
       "      <td>1.000000</td>\n",
       "      <td>0.000000</td>\n",
       "      <td>0.000000</td>\n",
       "      <td>0.000000</td>\n",
       "      <td>5.500000e+04</td>\n",
       "      <td>7.500000e+04</td>\n",
       "      <td>1.030000e+02</td>\n",
       "      <td>55.346335</td>\n",
       "      <td>11.176771</td>\n",
       "      <td>0.000000</td>\n",
       "    </tr>\n",
       "    <tr>\n",
       "      <th>25%</th>\n",
       "      <td>19672.250000</td>\n",
       "      <td>2.000000</td>\n",
       "      <td>2795.000000</td>\n",
       "      <td>55.000000</td>\n",
       "      <td>9.000000</td>\n",
       "      <td>1.495000e+06</td>\n",
       "      <td>1.375000e+06</td>\n",
       "      <td>6.515000e+02</td>\n",
       "      <td>57.731481</td>\n",
       "      <td>13.224915</td>\n",
       "      <td>0.000000</td>\n",
       "    </tr>\n",
       "    <tr>\n",
       "      <th>50%</th>\n",
       "      <td>30909.000000</td>\n",
       "      <td>3.000000</td>\n",
       "      <td>3655.000000</td>\n",
       "      <td>77.750000</td>\n",
       "      <td>30.000000</td>\n",
       "      <td>2.420000e+06</td>\n",
       "      <td>2.250000e+06</td>\n",
       "      <td>1.092500e+03</td>\n",
       "      <td>59.280953</td>\n",
       "      <td>16.582154</td>\n",
       "      <td>0.000000</td>\n",
       "    </tr>\n",
       "    <tr>\n",
       "      <th>75%</th>\n",
       "      <td>47673.750000</td>\n",
       "      <td>4.000000</td>\n",
       "      <td>4580.000000</td>\n",
       "      <td>110.000000</td>\n",
       "      <td>65.000000</td>\n",
       "      <td>3.700000e+06</td>\n",
       "      <td>3.495000e+06</td>\n",
       "      <td>1.836250e+03</td>\n",
       "      <td>59.435408</td>\n",
       "      <td>18.004513</td>\n",
       "      <td>0.000000</td>\n",
       "    </tr>\n",
       "    <tr>\n",
       "      <th>max</th>\n",
       "      <td>418750.000000</td>\n",
       "      <td>20.000000</td>\n",
       "      <td>9321.000000</td>\n",
       "      <td>560.000000</td>\n",
       "      <td>335.000000</td>\n",
       "      <td>2.530000e+07</td>\n",
       "      <td>2.300000e+07</td>\n",
       "      <td>1.007140e+06</td>\n",
       "      <td>67.854406</td>\n",
       "      <td>24.136828</td>\n",
       "      <td>56.000000</td>\n",
       "    </tr>\n",
       "  </tbody>\n",
       "</table>\n",
       "</div>"
      ],
      "text/plain": [
       "       price_per_area        rooms          fee  living_space  \\\n",
       "count     2390.000000  2375.000000  1433.000000   2392.000000   \n",
       "mean     36985.372385     3.403368  3728.357990     87.042559   \n",
       "std      25616.539904     1.720102  1322.843515     47.306871   \n",
       "min        982.000000     1.000000     0.000000      0.000000   \n",
       "25%      19672.250000     2.000000  2795.000000     55.000000   \n",
       "50%      30909.000000     3.000000  3655.000000     77.750000   \n",
       "75%      47673.750000     4.000000  4580.000000    110.000000   \n",
       "max     418750.000000    20.000000  9321.000000    560.000000   \n",
       "\n",
       "       supplemental_area         price   asked_price     land_area  \\\n",
       "count         710.000000  2.446000e+03  2.430000e+03  1.000000e+03   \n",
       "mean           41.252113  2.864402e+06  2.703596e+06  4.757620e+03   \n",
       "std            39.878895  2.184230e+06  2.091508e+06  4.038677e+04   \n",
       "min             0.000000  5.500000e+04  7.500000e+04  1.030000e+02   \n",
       "25%             9.000000  1.495000e+06  1.375000e+06  6.515000e+02   \n",
       "50%            30.000000  2.420000e+06  2.250000e+06  1.092500e+03   \n",
       "75%            65.000000  3.700000e+06  3.495000e+06  1.836250e+03   \n",
       "max           335.000000  2.530000e+07  2.300000e+07  1.007140e+06   \n",
       "\n",
       "         longitude     latitude        floor  \n",
       "count  2446.000000  2446.000000  2446.000000  \n",
       "mean     58.889279    15.908270     0.386263  \n",
       "std       1.868170     2.524556     1.845948  \n",
       "min      55.346335    11.176771     0.000000  \n",
       "25%      57.731481    13.224915     0.000000  \n",
       "50%      59.280953    16.582154     0.000000  \n",
       "75%      59.435408    18.004513     0.000000  \n",
       "max      67.854406    24.136828    56.000000  "
      ]
     },
     "execution_count": 414,
     "metadata": {},
     "output_type": "execute_result"
    }
   ],
   "source": [
    "df_parsed.describe()"
   ]
  },
  {
   "cell_type": "markdown",
   "metadata": {},
   "source": [
    "# Save dataset "
   ]
  },
  {
   "cell_type": "code",
   "execution_count": 416,
   "metadata": {},
   "outputs": [],
   "source": [
    "df_parsed.to_csv(\"data/dataset.csv\")"
   ]
  },
  {
   "cell_type": "code",
   "execution_count": 404,
   "metadata": {},
   "outputs": [],
   "source": [
    "# from pandas_profiling import ProfileReport\n",
    "\n",
    "# ProfileReport(df_parsed, title=\"Pandas Profiling Report\")"
   ]
  }
 ],
 "metadata": {
  "kernelspec": {
   "display_name": "Python 3",
   "language": "python",
   "name": "python3"
  },
  "language_info": {
   "codemirror_mode": {
    "name": "ipython",
    "version": 3
   },
   "file_extension": ".py",
   "mimetype": "text/x-python",
   "name": "python",
   "nbconvert_exporter": "python",
   "pygments_lexer": "ipython3",
   "version": "3.7.3"
  }
 },
 "nbformat": 4,
 "nbformat_minor": 2
}
