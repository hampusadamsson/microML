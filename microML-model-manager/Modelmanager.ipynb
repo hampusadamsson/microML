{
 "cells": [
  {
   "cell_type": "markdown",
   "metadata": {},
   "source": [
    "# Model manager\n",
    "\n",
    "This is a model manager that will manage machine learning models for the micro framework\n",
    "- Data preparation\n",
    "- Model training\n",
    "- Model storage"
   ]
  },
  {
   "cell_type": "markdown",
   "metadata": {},
   "source": [
    "## Data preparation"
   ]
  },
  {
   "cell_type": "code",
   "execution_count": 68,
   "metadata": {},
   "outputs": [
    {
     "data": {
      "text/html": [
       "<div>\n",
       "<style scoped>\n",
       "    .dataframe tbody tr th:only-of-type {\n",
       "        vertical-align: middle;\n",
       "    }\n",
       "\n",
       "    .dataframe tbody tr th {\n",
       "        vertical-align: top;\n",
       "    }\n",
       "\n",
       "    .dataframe thead th {\n",
       "        text-align: right;\n",
       "    }\n",
       "</style>\n",
       "<table border=\"1\" class=\"dataframe\">\n",
       "  <thead>\n",
       "    <tr style=\"text-align: right;\">\n",
       "      <th></th>\n",
       "      <th>Unnamed: 0</th>\n",
       "      <th>price_per_area</th>\n",
       "      <th>rooms</th>\n",
       "      <th>fee</th>\n",
       "      <th>living_space</th>\n",
       "      <th>supplemental_area</th>\n",
       "      <th>price</th>\n",
       "      <th>asked_price</th>\n",
       "      <th>land_area</th>\n",
       "      <th>longitude</th>\n",
       "      <th>latitude</th>\n",
       "      <th>year</th>\n",
       "      <th>month</th>\n",
       "      <th>day</th>\n",
       "      <th>address</th>\n",
       "      <th>floor</th>\n",
       "      <th>typeSummary</th>\n",
       "    </tr>\n",
       "  </thead>\n",
       "  <tbody>\n",
       "    <tr>\n",
       "      <th>0</th>\n",
       "      <td>0</td>\n",
       "      <td>20000.0</td>\n",
       "      <td>2.0</td>\n",
       "      <td>3833.0</td>\n",
       "      <td>50.0</td>\n",
       "      <td>NaN</td>\n",
       "      <td>1000000.0</td>\n",
       "      <td>995000.0</td>\n",
       "      <td>NaN</td>\n",
       "      <td>59.623836</td>\n",
       "      <td>16.570182</td>\n",
       "      <td>2020</td>\n",
       "      <td>6</td>\n",
       "      <td>11</td>\n",
       "      <td>Haga parkgata 9B</td>\n",
       "      <td>0.0</td>\n",
       "      <td>Bostadsrättslägenhet</td>\n",
       "    </tr>\n",
       "    <tr>\n",
       "      <th>1</th>\n",
       "      <td>1</td>\n",
       "      <td>96212.0</td>\n",
       "      <td>3.0</td>\n",
       "      <td>3944.0</td>\n",
       "      <td>66.0</td>\n",
       "      <td>NaN</td>\n",
       "      <td>6350000.0</td>\n",
       "      <td>5790000.0</td>\n",
       "      <td>NaN</td>\n",
       "      <td>59.319173</td>\n",
       "      <td>18.038294</td>\n",
       "      <td>2020</td>\n",
       "      <td>6</td>\n",
       "      <td>12</td>\n",
       "      <td>Heleneborgsgatan 5C</td>\n",
       "      <td>0.0</td>\n",
       "      <td>Bostadsrättslägenhet</td>\n",
       "    </tr>\n",
       "    <tr>\n",
       "      <th>2</th>\n",
       "      <td>2</td>\n",
       "      <td>20541.0</td>\n",
       "      <td>3.0</td>\n",
       "      <td>4948.0</td>\n",
       "      <td>92.5</td>\n",
       "      <td>NaN</td>\n",
       "      <td>1900000.0</td>\n",
       "      <td>1950000.0</td>\n",
       "      <td>NaN</td>\n",
       "      <td>63.181727</td>\n",
       "      <td>14.639372</td>\n",
       "      <td>2020</td>\n",
       "      <td>6</td>\n",
       "      <td>15</td>\n",
       "      <td>Rådhusgatan 28 A</td>\n",
       "      <td>0.0</td>\n",
       "      <td>Bostadsrättslägenhet</td>\n",
       "    </tr>\n",
       "    <tr>\n",
       "      <th>3</th>\n",
       "      <td>3</td>\n",
       "      <td>34568.0</td>\n",
       "      <td>3.0</td>\n",
       "      <td>4663.0</td>\n",
       "      <td>81.0</td>\n",
       "      <td>NaN</td>\n",
       "      <td>2800000.0</td>\n",
       "      <td>2995000.0</td>\n",
       "      <td>NaN</td>\n",
       "      <td>59.439847</td>\n",
       "      <td>18.073676</td>\n",
       "      <td>2020</td>\n",
       "      <td>6</td>\n",
       "      <td>10</td>\n",
       "      <td>Kometvägen 35, vån 3</td>\n",
       "      <td>3.0</td>\n",
       "      <td>Bostadsrättslägenhet</td>\n",
       "    </tr>\n",
       "    <tr>\n",
       "      <th>4</th>\n",
       "      <td>4</td>\n",
       "      <td>56538.0</td>\n",
       "      <td>2.0</td>\n",
       "      <td>2904.0</td>\n",
       "      <td>52.0</td>\n",
       "      <td>NaN</td>\n",
       "      <td>2940000.0</td>\n",
       "      <td>2495000.0</td>\n",
       "      <td>NaN</td>\n",
       "      <td>59.295118</td>\n",
       "      <td>18.106403</td>\n",
       "      <td>2020</td>\n",
       "      <td>6</td>\n",
       "      <td>10</td>\n",
       "      <td>Ulricehamnsvägen 4</td>\n",
       "      <td>0.0</td>\n",
       "      <td>Bostadsrättslägenhet</td>\n",
       "    </tr>\n",
       "  </tbody>\n",
       "</table>\n",
       "</div>"
      ],
      "text/plain": [
       "   Unnamed: 0  price_per_area  rooms     fee  living_space  supplemental_area  \\\n",
       "0           0         20000.0    2.0  3833.0          50.0                NaN   \n",
       "1           1         96212.0    3.0  3944.0          66.0                NaN   \n",
       "2           2         20541.0    3.0  4948.0          92.5                NaN   \n",
       "3           3         34568.0    3.0  4663.0          81.0                NaN   \n",
       "4           4         56538.0    2.0  2904.0          52.0                NaN   \n",
       "\n",
       "       price  asked_price  land_area  longitude   latitude  year  month  day  \\\n",
       "0  1000000.0     995000.0        NaN  59.623836  16.570182  2020      6   11   \n",
       "1  6350000.0    5790000.0        NaN  59.319173  18.038294  2020      6   12   \n",
       "2  1900000.0    1950000.0        NaN  63.181727  14.639372  2020      6   15   \n",
       "3  2800000.0    2995000.0        NaN  59.439847  18.073676  2020      6   10   \n",
       "4  2940000.0    2495000.0        NaN  59.295118  18.106403  2020      6   10   \n",
       "\n",
       "                address  floor           typeSummary  \n",
       "0      Haga parkgata 9B    0.0  Bostadsrättslägenhet  \n",
       "1   Heleneborgsgatan 5C    0.0  Bostadsrättslägenhet  \n",
       "2      Rådhusgatan 28 A    0.0  Bostadsrättslägenhet  \n",
       "3  Kometvägen 35, vån 3    3.0  Bostadsrättslägenhet  \n",
       "4    Ulricehamnsvägen 4    0.0  Bostadsrättslägenhet  "
      ]
     },
     "execution_count": 68,
     "metadata": {},
     "output_type": "execute_result"
    }
   ],
   "source": [
    "import pandas as pd\n",
    "'''\n",
    "Read data into a Pandas dataframe \n",
    "'''\n",
    "\n",
    "df = pd.read_csv(\"data/dataset.csv\")\n",
    "df.reset_index()\n",
    "df.head()"
   ]
  },
  {
   "cell_type": "code",
   "execution_count": 2,
   "metadata": {},
   "outputs": [
    {
     "data": {
      "text/html": [
       "<div>\n",
       "<style scoped>\n",
       "    .dataframe tbody tr th:only-of-type {\n",
       "        vertical-align: middle;\n",
       "    }\n",
       "\n",
       "    .dataframe tbody tr th {\n",
       "        vertical-align: top;\n",
       "    }\n",
       "\n",
       "    .dataframe thead th {\n",
       "        text-align: right;\n",
       "    }\n",
       "</style>\n",
       "<table border=\"1\" class=\"dataframe\">\n",
       "  <thead>\n",
       "    <tr style=\"text-align: right;\">\n",
       "      <th></th>\n",
       "      <th>Unnamed: 0</th>\n",
       "      <th>price_per_area</th>\n",
       "      <th>rooms</th>\n",
       "      <th>fee</th>\n",
       "      <th>living_space</th>\n",
       "      <th>supplemental_area</th>\n",
       "      <th>price</th>\n",
       "      <th>asked_price</th>\n",
       "      <th>land_area</th>\n",
       "      <th>longitude</th>\n",
       "      <th>latitude</th>\n",
       "      <th>year</th>\n",
       "      <th>month</th>\n",
       "      <th>day</th>\n",
       "      <th>floor</th>\n",
       "    </tr>\n",
       "  </thead>\n",
       "  <tbody>\n",
       "    <tr>\n",
       "      <th>count</th>\n",
       "      <td>2446.000000</td>\n",
       "      <td>2390.000000</td>\n",
       "      <td>2375.000000</td>\n",
       "      <td>1433.000000</td>\n",
       "      <td>2392.000000</td>\n",
       "      <td>710.000000</td>\n",
       "      <td>2.446000e+03</td>\n",
       "      <td>2.430000e+03</td>\n",
       "      <td>1.000000e+03</td>\n",
       "      <td>2446.000000</td>\n",
       "      <td>2446.000000</td>\n",
       "      <td>2446.0</td>\n",
       "      <td>2446.0</td>\n",
       "      <td>2446.000000</td>\n",
       "      <td>2446.000000</td>\n",
       "    </tr>\n",
       "    <tr>\n",
       "      <th>mean</th>\n",
       "      <td>1222.500000</td>\n",
       "      <td>36985.372385</td>\n",
       "      <td>3.403368</td>\n",
       "      <td>3728.357990</td>\n",
       "      <td>87.042559</td>\n",
       "      <td>41.252113</td>\n",
       "      <td>2.864402e+06</td>\n",
       "      <td>2.703596e+06</td>\n",
       "      <td>4.757620e+03</td>\n",
       "      <td>58.889279</td>\n",
       "      <td>15.908270</td>\n",
       "      <td>2020.0</td>\n",
       "      <td>6.0</td>\n",
       "      <td>11.810303</td>\n",
       "      <td>0.386263</td>\n",
       "    </tr>\n",
       "    <tr>\n",
       "      <th>std</th>\n",
       "      <td>706.243702</td>\n",
       "      <td>25616.539904</td>\n",
       "      <td>1.720102</td>\n",
       "      <td>1322.843515</td>\n",
       "      <td>47.306871</td>\n",
       "      <td>39.878895</td>\n",
       "      <td>2.184230e+06</td>\n",
       "      <td>2.091508e+06</td>\n",
       "      <td>4.038677e+04</td>\n",
       "      <td>1.868170</td>\n",
       "      <td>2.524556</td>\n",
       "      <td>0.0</td>\n",
       "      <td>0.0</td>\n",
       "      <td>1.678930</td>\n",
       "      <td>1.845948</td>\n",
       "    </tr>\n",
       "    <tr>\n",
       "      <th>min</th>\n",
       "      <td>0.000000</td>\n",
       "      <td>982.000000</td>\n",
       "      <td>1.000000</td>\n",
       "      <td>0.000000</td>\n",
       "      <td>0.000000</td>\n",
       "      <td>0.000000</td>\n",
       "      <td>5.500000e+04</td>\n",
       "      <td>7.500000e+04</td>\n",
       "      <td>1.030000e+02</td>\n",
       "      <td>55.346335</td>\n",
       "      <td>11.176771</td>\n",
       "      <td>2020.0</td>\n",
       "      <td>6.0</td>\n",
       "      <td>9.000000</td>\n",
       "      <td>0.000000</td>\n",
       "    </tr>\n",
       "    <tr>\n",
       "      <th>25%</th>\n",
       "      <td>611.250000</td>\n",
       "      <td>19672.250000</td>\n",
       "      <td>2.000000</td>\n",
       "      <td>2795.000000</td>\n",
       "      <td>55.000000</td>\n",
       "      <td>9.000000</td>\n",
       "      <td>1.495000e+06</td>\n",
       "      <td>1.375000e+06</td>\n",
       "      <td>6.515000e+02</td>\n",
       "      <td>57.731481</td>\n",
       "      <td>13.224915</td>\n",
       "      <td>2020.0</td>\n",
       "      <td>6.0</td>\n",
       "      <td>10.000000</td>\n",
       "      <td>0.000000</td>\n",
       "    </tr>\n",
       "    <tr>\n",
       "      <th>50%</th>\n",
       "      <td>1222.500000</td>\n",
       "      <td>30909.000000</td>\n",
       "      <td>3.000000</td>\n",
       "      <td>3655.000000</td>\n",
       "      <td>77.750000</td>\n",
       "      <td>30.000000</td>\n",
       "      <td>2.420000e+06</td>\n",
       "      <td>2.250000e+06</td>\n",
       "      <td>1.092500e+03</td>\n",
       "      <td>59.280953</td>\n",
       "      <td>16.582154</td>\n",
       "      <td>2020.0</td>\n",
       "      <td>6.0</td>\n",
       "      <td>11.000000</td>\n",
       "      <td>0.000000</td>\n",
       "    </tr>\n",
       "    <tr>\n",
       "      <th>75%</th>\n",
       "      <td>1833.750000</td>\n",
       "      <td>47673.750000</td>\n",
       "      <td>4.000000</td>\n",
       "      <td>4580.000000</td>\n",
       "      <td>110.000000</td>\n",
       "      <td>65.000000</td>\n",
       "      <td>3.700000e+06</td>\n",
       "      <td>3.495000e+06</td>\n",
       "      <td>1.836250e+03</td>\n",
       "      <td>59.435408</td>\n",
       "      <td>18.004513</td>\n",
       "      <td>2020.0</td>\n",
       "      <td>6.0</td>\n",
       "      <td>13.000000</td>\n",
       "      <td>0.000000</td>\n",
       "    </tr>\n",
       "    <tr>\n",
       "      <th>max</th>\n",
       "      <td>2445.000000</td>\n",
       "      <td>418750.000000</td>\n",
       "      <td>20.000000</td>\n",
       "      <td>9321.000000</td>\n",
       "      <td>560.000000</td>\n",
       "      <td>335.000000</td>\n",
       "      <td>2.530000e+07</td>\n",
       "      <td>2.300000e+07</td>\n",
       "      <td>1.007140e+06</td>\n",
       "      <td>67.854406</td>\n",
       "      <td>24.136828</td>\n",
       "      <td>2020.0</td>\n",
       "      <td>6.0</td>\n",
       "      <td>16.000000</td>\n",
       "      <td>56.000000</td>\n",
       "    </tr>\n",
       "  </tbody>\n",
       "</table>\n",
       "</div>"
      ],
      "text/plain": [
       "        Unnamed: 0  price_per_area        rooms          fee  living_space  \\\n",
       "count  2446.000000     2390.000000  2375.000000  1433.000000   2392.000000   \n",
       "mean   1222.500000    36985.372385     3.403368  3728.357990     87.042559   \n",
       "std     706.243702    25616.539904     1.720102  1322.843515     47.306871   \n",
       "min       0.000000      982.000000     1.000000     0.000000      0.000000   \n",
       "25%     611.250000    19672.250000     2.000000  2795.000000     55.000000   \n",
       "50%    1222.500000    30909.000000     3.000000  3655.000000     77.750000   \n",
       "75%    1833.750000    47673.750000     4.000000  4580.000000    110.000000   \n",
       "max    2445.000000   418750.000000    20.000000  9321.000000    560.000000   \n",
       "\n",
       "       supplemental_area         price   asked_price     land_area  \\\n",
       "count         710.000000  2.446000e+03  2.430000e+03  1.000000e+03   \n",
       "mean           41.252113  2.864402e+06  2.703596e+06  4.757620e+03   \n",
       "std            39.878895  2.184230e+06  2.091508e+06  4.038677e+04   \n",
       "min             0.000000  5.500000e+04  7.500000e+04  1.030000e+02   \n",
       "25%             9.000000  1.495000e+06  1.375000e+06  6.515000e+02   \n",
       "50%            30.000000  2.420000e+06  2.250000e+06  1.092500e+03   \n",
       "75%            65.000000  3.700000e+06  3.495000e+06  1.836250e+03   \n",
       "max           335.000000  2.530000e+07  2.300000e+07  1.007140e+06   \n",
       "\n",
       "         longitude     latitude    year   month          day        floor  \n",
       "count  2446.000000  2446.000000  2446.0  2446.0  2446.000000  2446.000000  \n",
       "mean     58.889279    15.908270  2020.0     6.0    11.810303     0.386263  \n",
       "std       1.868170     2.524556     0.0     0.0     1.678930     1.845948  \n",
       "min      55.346335    11.176771  2020.0     6.0     9.000000     0.000000  \n",
       "25%      57.731481    13.224915  2020.0     6.0    10.000000     0.000000  \n",
       "50%      59.280953    16.582154  2020.0     6.0    11.000000     0.000000  \n",
       "75%      59.435408    18.004513  2020.0     6.0    13.000000     0.000000  \n",
       "max      67.854406    24.136828  2020.0     6.0    16.000000    56.000000  "
      ]
     },
     "execution_count": 2,
     "metadata": {},
     "output_type": "execute_result"
    }
   ],
   "source": [
    "df.describe()"
   ]
  },
  {
   "cell_type": "code",
   "execution_count": 69,
   "metadata": {},
   "outputs": [],
   "source": [
    "'''\n",
    "Split into features and target\n",
    "'''\n",
    "\n",
    "X = df[['rooms', 'fee', 'living_space', 'supplemental_area', 'land_area', 'longitude', 'latitude', 'year', 'month', 'day', 'floor']] #.to_numpy()\n",
    "X = X.reindex(sorted(X.columns), axis=1)\n",
    "Y = df.price #.to_numpy()"
   ]
  },
  {
   "cell_type": "markdown",
   "metadata": {},
   "source": [
    "## Model training "
   ]
  },
  {
   "cell_type": "code",
   "execution_count": 70,
   "metadata": {},
   "outputs": [],
   "source": [
    "# from sklearn.base import BaseEstimator, TransformerMixin\n",
    "# from sklearn.preprocessing import LabelEncoder\n",
    "\n",
    "# class CustomTransformer(BaseEstimator, TransformerMixin):\n",
    "#     def __init__(self):\n",
    "#         self.le = LabelEncoder()\n",
    "        \n",
    "#     def fit(self, X: list, y=None):\n",
    "#         self.le.fit(X.typeSummary.fillna(-1))\n",
    "#         return self\n",
    "\n",
    "#     def transform(self, X):\n",
    "#         X[\"typeSummary\"] = self.le.transform(X.typeSummary.fillna(-1))\n",
    "#         return X"
   ]
  },
  {
   "cell_type": "code",
   "execution_count": 71,
   "metadata": {},
   "outputs": [
    {
     "data": {
      "text/plain": [
       "XGBRegressor(base_score=0.5, booster=None, colsample_bylevel=1,\n",
       "       colsample_bynode=1, colsample_bytree=1, gamma=0, gpu_id=-1,\n",
       "       importance_type='gain', interaction_constraints=None,\n",
       "       learning_rate=0.300000012, max_delta_step=0, max_depth=6,\n",
       "       min_child_weight=1, missing=nan, monotone_constraints=None,\n",
       "       n_estimators=100, n_jobs=0, num_parallel_tree=1,\n",
       "       objective='reg:squarederror', random_state=0, reg_alpha=0,\n",
       "       reg_lambda=1, scale_pos_weight=1, subsample=1, tree_method=None,\n",
       "       validate_parameters=False, verbosity=None)"
      ]
     },
     "execution_count": 71,
     "metadata": {},
     "output_type": "execute_result"
    }
   ],
   "source": [
    "from xgboost import XGBRegressor\n",
    "from sklearn.pipeline import Pipeline\n",
    "\n",
    "# clf = Pipeline([\n",
    "#     ('CustomTransformer', CustomTransformer()),\n",
    "#     ('XGBRegressor', XGBRegressor())\n",
    "# ])\n",
    "\n",
    "clf = XGBRegressor()\n",
    "clf.fit(X, Y)"
   ]
  },
  {
   "cell_type": "markdown",
   "metadata": {},
   "source": [
    "## Model storage "
   ]
  },
  {
   "cell_type": "code",
   "execution_count": 72,
   "metadata": {},
   "outputs": [
    {
     "name": "stdout",
     "output_type": "stream",
     "text": [
      "models/model-sample-Hemnet-1592385899.3558443.model\n"
     ]
    }
   ],
   "source": [
    "import time \n",
    "import pickle\n",
    "\n",
    "model_name = \"sample-Hemnet\"\n",
    "full_name = \"models/model-{}-{}.model\".format(model_name, time.time())\n",
    "\n",
    "with open(full_name, \"wb\") as f:\n",
    "    pickle.dump(clf, f)\n",
    "    \n",
    "print(full_name)"
   ]
  },
  {
   "cell_type": "markdown",
   "metadata": {},
   "source": [
    "## Test model "
   ]
  },
  {
   "cell_type": "code",
   "execution_count": 73,
   "metadata": {},
   "outputs": [],
   "source": [
    "with open(full_name, \"rb\") as f:\n",
    "    deserialized_model = pickle.load(f)"
   ]
  },
  {
   "cell_type": "code",
   "execution_count": 74,
   "metadata": {},
   "outputs": [
    {
     "name": "stdout",
     "output_type": "stream",
     "text": [
      "Input:    day     fee  floor  land_area   latitude  living_space  longitude  month  \\\n",
      "2   15  4948.0    0.0        NaN  14.639372          92.5  63.181727      6   \n",
      "\n",
      "   rooms  supplemental_area  year  \n",
      "2    3.0                NaN  2020  \n",
      "Result: 1905049.8\n"
     ]
    }
   ],
   "source": [
    "sample = X[2:3]\n",
    "res = deserialized_model.predict(sample)[0]\n",
    "print(\"Input:\", sample)\n",
    "print(\"Result:\", res)"
   ]
  },
  {
   "cell_type": "code",
   "execution_count": 75,
   "metadata": {},
   "outputs": [
    {
     "data": {
      "text/html": [
       "<div>\n",
       "<style scoped>\n",
       "    .dataframe tbody tr th:only-of-type {\n",
       "        vertical-align: middle;\n",
       "    }\n",
       "\n",
       "    .dataframe tbody tr th {\n",
       "        vertical-align: top;\n",
       "    }\n",
       "\n",
       "    .dataframe thead th {\n",
       "        text-align: right;\n",
       "    }\n",
       "</style>\n",
       "<table border=\"1\" class=\"dataframe\">\n",
       "  <thead>\n",
       "    <tr style=\"text-align: right;\">\n",
       "      <th></th>\n",
       "      <th>day</th>\n",
       "      <th>fee</th>\n",
       "      <th>floor</th>\n",
       "      <th>land_area</th>\n",
       "      <th>latitude</th>\n",
       "      <th>living_space</th>\n",
       "      <th>longitude</th>\n",
       "      <th>month</th>\n",
       "      <th>rooms</th>\n",
       "      <th>supplemental_area</th>\n",
       "      <th>year</th>\n",
       "    </tr>\n",
       "  </thead>\n",
       "  <tbody>\n",
       "    <tr>\n",
       "      <th>2</th>\n",
       "      <td>15</td>\n",
       "      <td>4948.0</td>\n",
       "      <td>0.0</td>\n",
       "      <td>NaN</td>\n",
       "      <td>14.639372</td>\n",
       "      <td>92.5</td>\n",
       "      <td>63.181727</td>\n",
       "      <td>6</td>\n",
       "      <td>3.0</td>\n",
       "      <td>NaN</td>\n",
       "      <td>2020</td>\n",
       "    </tr>\n",
       "  </tbody>\n",
       "</table>\n",
       "</div>"
      ],
      "text/plain": [
       "   day     fee  floor  land_area   latitude  living_space  longitude  month  \\\n",
       "2   15  4948.0    0.0        NaN  14.639372          92.5  63.181727      6   \n",
       "\n",
       "   rooms  supplemental_area  year  \n",
       "2    3.0                NaN  2020  "
      ]
     },
     "execution_count": 75,
     "metadata": {},
     "output_type": "execute_result"
    }
   ],
   "source": [
    "sample #.tolist()"
   ]
  },
  {
   "cell_type": "code",
   "execution_count": 94,
   "metadata": {},
   "outputs": [],
   "source": [
    "import json\n",
    "\n",
    "\n",
    "# raw = {'rooms': '6', 'fee': '2100', 'living_space': '263', 'floor': '9', 'supplemental_area': '227', 'land_area': '123', 'longitude': 13, 'latitude': 0, 'year': '2020', 'month': '06', 'day': '16'}\n",
    "raw = {'rooms': '3', 'fee': '3143', 'living_space': '51', 'floor': '1', 'supplemental_area': '0', 'land_area': '0', 'latitude': 18.0052419, 'longitude': 59.3291077, 'year': '2020', 'month': '06', 'day': '17'}\n",
    "series = pd.Series(raw, raw.keys())\n",
    "series = series.astype(\"float\")"
   ]
  },
  {
   "cell_type": "code",
   "execution_count": 95,
   "metadata": {},
   "outputs": [
    {
     "data": {
      "text/plain": [
       "4311338.0"
      ]
     },
     "execution_count": 95,
     "metadata": {},
     "output_type": "execute_result"
    }
   ],
   "source": [
    "s = pd.DataFrame.from_dict({\"row\": raw}, orient='index')\n",
    "s = s.reindex(sorted(s.columns), axis=1)\n",
    "s = s.astype(\"float\")\n",
    "s\n",
    "deserialized_model.predict(s)[0]"
   ]
  },
  {
   "cell_type": "code",
   "execution_count": 80,
   "metadata": {},
   "outputs": [
    {
     "data": {
      "image/png": "[encoded data removed]",
      "text/plain": [
       "<Figure size 432x288 with 1 Axes>"
      ]
     },
     "metadata": {
      "needs_background": "light"
     },
     "output_type": "display_data"
    }
   ],
   "source": [
    "import matplotlib.pyplot as plt\n",
    "\n",
    "plt.barh(X.columns, clf.feature_importances_)\n",
    "plt.show()"
   ]
  },
  {
   "cell_type": "code",
   "execution_count": 87,
   "metadata": {},
   "outputs": [
    {
     "data": {
      "text/plain": [
       "55.59854489931772"
      ]
     },
     "execution_count": 87,
     "metadata": {},
     "output_type": "execute_result"
    }
   ],
   "source": [
    "X.longitude[23]"
   ]
  }
 ],
 "metadata": {
  "kernelspec": {
   "display_name": "Python 3",
   "language": "python",
   "name": "python3"
  },
  "language_info": {
   "codemirror_mode": {
    "name": "ipython",
    "version": 3
   },
   "file_extension": ".py",
   "mimetype": "text/x-python",
   "name": "python",
   "nbconvert_exporter": "python",
   "pygments_lexer": "ipython3",
   "version": "3.7.3"
  }
 },
 "nbformat": 4,
 "nbformat_minor": 2
}
